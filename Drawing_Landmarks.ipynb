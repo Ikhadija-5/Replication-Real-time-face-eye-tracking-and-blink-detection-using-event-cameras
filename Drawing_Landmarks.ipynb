{
  "nbformat": 4,
  "nbformat_minor": 0,
  "metadata": {
    "colab": {
      "provenance": [],
      "mount_file_id": "1yz7RPh0sLNToJHgTCHPteWxT4NurLM59",
      "authorship_tag": "ABX9TyMJjYBVy8RD1vAU0+aHY2JB",
      "include_colab_link": true
    },
    "kernelspec": {
      "name": "python3",
      "display_name": "Python 3"
    },
    "language_info": {
      "name": "python"
    }
  },
  "cells": [
    {
      "cell_type": "markdown",
      "metadata": {
        "id": "view-in-github",
        "colab_type": "text"
      },
      "source": [
        "<a href=\"https://colab.research.google.com/github/Ikhadija-5/Replication-Real-time-face-eye-tracking-and-blink-detection-using-event-cameras/blob/main/Drawing_Landmarks.ipynb\" target=\"_parent\"><img src=\"https://colab.research.google.com/assets/colab-badge.svg\" alt=\"Open In Colab\"/></a>"
      ]
    },
    {
      "cell_type": "code",
      "execution_count": null,
      "metadata": {
        "colab": {
          "base_uri": "https://localhost:8080/"
        },
        "id": "MASsiykgmDzp",
        "outputId": "794fef37-a3f6-45a4-feb4-aac5791f0f08"
      },
      "outputs": [
        {
          "output_type": "stream",
          "name": "stdout",
          "text": [
            "Images with landmarks saved successfully.\n"
          ]
        }
      ],
      "source": [
        "import os\n",
        "import cv2\n",
        "\n",
        "# Path for the folder containing images and their corresponding landmarks\n",
        "data_folder = '/content/drive/MyDrive/Event_Simulation/helen_train_test/trainset'\n",
        "\n",
        "# Path for the output folder to save images with landmarks\n",
        "output_images_folder = '/content/drive/MyDrive/Event_Simulation/helen_train_test/trainset_landmarks'\n",
        "os.makedirs(output_images_folder, exist_ok=True)\n",
        "\n",
        "# Get a list of all image files in the data folder\n",
        "image_files = os.listdir(data_folder)\n",
        "image_files = [file for file in image_files if file.lower().endswith(('.jpg', '.jpeg', '.png'))]\n",
        "\n",
        "for image_file in image_files:\n",
        "    # Load the image\n",
        "    image_path = os.path.join(data_folder, image_file)\n",
        "    image = cv2.imread(image_path)\n",
        "\n",
        "    # Corresponding landmark file\n",
        "    landmark_file_name = os.path.splitext(image_file)[0] + '.pts'\n",
        "    landmark_file_path = os.path.join(data_folder, landmark_file_name)\n",
        "\n",
        "    # Initialize a list to store landmarks\n",
        "    landmarks = []\n",
        "\n",
        "    # Open and read the .pts file\n",
        "    with open(landmark_file_path, 'r') as file:\n",
        "        lines = file.readlines()\n",
        "\n",
        "        # Find the line where the landmark data starts\n",
        "        for i, line in enumerate(lines):\n",
        "            if line.strip() == \"{\":\n",
        "                break\n",
        "\n",
        "        # Read landmark data\n",
        "        for line in lines[i + 1:]:\n",
        "            if line.strip() == \"}\":\n",
        "                break\n",
        "            x, y = map(float, line.strip().split())\n",
        "            landmarks.append((int(x), int(y)))\n",
        "\n",
        "    # Draw landmarks on the image\n",
        "    for x, y in landmarks:\n",
        "        cv2.circle(image, (int(x), int(y)), 5, (0, 255, 0), -1)  # Draw a green circle\n",
        "\n",
        "    # Save the image with landmarks drawn in the output folder\n",
        "    output_image_path = os.path.join(output_images_folder, image_file)\n",
        "    cv2.imwrite(output_image_path, image)\n",
        "\n",
        "print(\"Images with landmarks saved successfully.\")\n"
      ]
    }
  ]
}