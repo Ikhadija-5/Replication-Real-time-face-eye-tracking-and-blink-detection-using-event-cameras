{
  "nbformat": 4,
  "nbformat_minor": 0,
  "metadata": {
    "colab": {
      "provenance": [],
      "mount_file_id": "1zobuq3bE3I8sZp9r7Ai8rXF7sZ3dJPyW",
      "authorship_tag": "ABX9TyN2pPWpIRPj/PePlSHF5dBN",
      "include_colab_link": true
    },
    "kernelspec": {
      "name": "python3",
      "display_name": "Python 3"
    },
    "language_info": {
      "name": "python"
    }
  },
  "cells": [
    {
      "cell_type": "markdown",
      "metadata": {
        "id": "view-in-github",
        "colab_type": "text"
      },
      "source": [
        "<a href=\"https://colab.research.google.com/github/Ikhadija-5/Replication-Real-time-face-eye-tracking-and-blink-detection-using-event-cameras/blob/main/Image_Cropping.ipynb\" target=\"_parent\"><img src=\"https://colab.research.google.com/assets/colab-badge.svg\" alt=\"Open In Colab\"/></a>"
      ]
    },
    {
      "cell_type": "markdown",
      "source": [
        "#Single Image Cropping"
      ],
      "metadata": {
        "id": "D2C49prtnOqN"
      }
    },
    {
      "cell_type": "code",
      "execution_count": null,
      "metadata": {
        "id": "Gka0gl1tHP6Q"
      },
      "outputs": [],
      "source": [
        "import cv2\n",
        "import numpy as np\n",
        "from google.colab.patches import cv2_imshow\n",
        "\n",
        "# Load the image\n",
        "image = cv2.imread('/content/drive/MyDrive/Event_Simulation/Cropped_Images/1234292822_1/Original.jpg')\n",
        "\n",
        "# Define the shift offset (in pixels)\n",
        "offset_x = 10\n",
        "offset_y = 5\n",
        "\n",
        "# initialising tensor with zeros for shifted images\n",
        "shifted_image = np.zeros_like(image)\n",
        "\n",
        "# Loop through each pixel in the original image\n",
        "for y in range(image.shape[0]):\n",
        "    for x in range(image.shape[1]):\n",
        "        # Calculate the new coordinates after applying the offset\n",
        "        new_x = (x + offset_x) % image.shape[1]\n",
        "        new_y = (y + offset_y) % image.shape[0]\n",
        "\n",
        "        # Assign the pixel value from the original image to the new coordinates\n",
        "        shifted_image[new_y, new_x] = image[y, x]\n",
        "\n",
        "cv2_imshow(shifted_image)\n",
        "\n"
      ]
    },
    {
      "cell_type": "markdown",
      "source": [
        "#Multiple Image Cropping"
      ],
      "metadata": {
        "id": "IVEO8i0AnXJu"
      }
    },
    {
      "cell_type": "code",
      "source": [
        "import cv2\n",
        "import numpy as np\n",
        "import os\n",
        "import random\n",
        "\n",
        "# Load the image\n",
        "image = cv2.imread('/content/drive/MyDrive/Event_Simulation/Cropped_Images/1234292822_1/Original.jpg')\n",
        "\n",
        "# Define the number of shifted images to generate\n",
        "num_shifted_images = 20\n",
        "\n",
        "# Define the maximum shift offset (in pixels)\n",
        "max_offset_x = 10  # adjust this value as needed\n",
        "max_offset_y = 15  # adjust this value as needed\n",
        "\n",
        "# Create a directory to save the shifted images\n",
        "output_directory = '/content/drive/MyDrive/Event_Simulation/Cropped_Image/1234292822_1'\n",
        "os.makedirs(output_directory, exist_ok=True)\n",
        "\n",
        "# Generate and save shifted images\n",
        "for i in range(num_shifted_images):\n",
        "    # Generate random shift offsets\n",
        "    offset_x = random.randint(-max_offset_x, max_offset_x)\n",
        "    offset_y = random.randint(-max_offset_y, max_offset_y)\n",
        "\n",
        "    # Create an empty canvas to hold the shifted image\n",
        "    shifted_image = np.zeros_like(image)\n",
        "\n",
        "    # Loop through each pixel in the original image\n",
        "    for y in range(image.shape[0]):\n",
        "        for x in range(image.shape[1]):\n",
        "            # Calculate the new coordinates after applying the offset\n",
        "            new_x = (x + offset_x) % image.shape[1]\n",
        "            new_y = (y + offset_y) % image.shape[0]\n",
        "\n",
        "            # Assign the pixel value from the original image to the new coordinates\n",
        "            shifted_image[new_y, new_x] = image[y, x]\n",
        "\n",
        "    # Save the shifted image\n",
        "    output_path = os.path.join(output_directory, f'crop_{i}.jpg')\n",
        "    cv2.imwrite(output_path, shifted_image)\n",
        "\n",
        "print(f\"{num_shifted_images} shifted images generated and saved in '{output_directory}' folder.\")\n"
      ],
      "metadata": {
        "id": "UHaaYc6NHu1C"
      },
      "execution_count": null,
      "outputs": []
    },
    {
      "cell_type": "markdown",
      "source": [
        "#6-DOF"
      ],
      "metadata": {
        "id": "nLT4dupBniGd"
      }
    },
    {
      "cell_type": "code",
      "source": [
        "import cv2\n",
        "import numpy as np\n",
        "import os\n",
        "import random\n",
        "from math import radians, sin, cos\n",
        "\n",
        "# Load the image\n",
        "image = cv2.imread('/content/drive/MyDrive/Event_Simulation/Cropped_Images/1234292822_1/Original.jpg')\n",
        "\n",
        "# Define the number of transformed images to generate\n",
        "num_transformed_images = 20\n",
        "\n",
        "# Define the maximum values for different transformations\n",
        "max_translation_x = 10\n",
        "max_translation_y = 15\n",
        "max_rotation_angle = 15  # in degrees\n",
        "\n",
        "# Create a directory to save the transformed images\n",
        "output_directory = '/content/drive/MyDrive/Event_Simulation/Cropped_Images/1234292822_1_6_dof'\n",
        "os.makedirs(output_directory, exist_ok=True)\n",
        "\n",
        "# Generate and save transformed images\n",
        "for i in range(num_transformed_images):\n",
        "    # Generate random transformations\n",
        "    translation_x = random.randint(-max_translation_x, max_translation_x)\n",
        "    translation_y = random.randint(-max_translation_y, max_translation_y)\n",
        "    rotation_angle = random.uniform(-max_rotation_angle, max_rotation_angle)  # in degrees\n",
        "\n",
        "    # Compute the rotation matrix\n",
        "    rotation_matrix = cv2.getRotationMatrix2D((image.shape[1] / 2, image.shape[0] / 2), rotation_angle, 1.0)\n",
        "\n",
        "    # Apply translation to the rotation matrix\n",
        "    rotation_matrix[0, 2] += translation_x\n",
        "    rotation_matrix[1, 2] += translation_y\n",
        "\n",
        "    # Apply the affine transformation\n",
        "    transformed_image = cv2.warpAffine(image, rotation_matrix, (image.shape[1], image.shape[0]))\n",
        "\n",
        "    # Save the transformed image\n",
        "    output_path = os.path.join(output_directory, f'transform_{i}.jpg')\n",
        "    cv2.imwrite(output_path, transformed_image)\n",
        "\n",
        "print(f\"{num_transformed_images} transformed images generated and saved in '{output_directory}' folder.\")\n"
      ],
      "metadata": {
        "colab": {
          "base_uri": "https://localhost:8080/"
        },
        "id": "z2ldSorqcRtp",
        "outputId": "73467c4d-6981-4ffe-c016-06df6daf8247"
      },
      "execution_count": null,
      "outputs": [
        {
          "output_type": "stream",
          "name": "stdout",
          "text": [
            "20 transformed images generated and saved in '/content/drive/MyDrive/Event_Simulation/Cropped_Images/1234292822_1_6_dof' folder.\n"
          ]
        }
      ]
    },
    {
      "cell_type": "markdown",
      "source": [
        "#Preserving Landmarks"
      ],
      "metadata": {
        "id": "1dyF__gInlxH"
      }
    },
    {
      "cell_type": "code",
      "source": [
        "import cv2\n",
        "import numpy as np\n",
        "import os\n",
        "import random\n",
        "\n",
        "# Load the image\n",
        "image = cv2.imread('/content/drive/MyDrive/Event_Simulation/Helen/helen_train_test/Helen_Cropped/1234292822_1.jpg')\n",
        "\n",
        "# Define the number of shifted images to generate\n",
        "num_shifted_images = 20\n",
        "\n",
        "# Define the maximum shift offset (in pixels)\n",
        "max_offset_x = 10  # adjust this value as needed\n",
        "max_offset_y = 15  # adjust this value as needed\n",
        "\n",
        "# Create a directory to save the shifted images\n",
        "output_directory = '/content/drive/MyDrive/Event_Simulation/Helen/helen_train_test/Helen_Cropped'\n",
        "os.makedirs(output_directory, exist_ok=True)\n",
        "\n",
        "# Generate and save shifted images\n",
        "for i in range(num_shifted_images):\n",
        "    # Generate random shift offsets\n",
        "    offset_x = random.randint(-max_offset_x, max_offset_x)\n",
        "    offset_y = random.randint(-max_offset_y, max_offset_y)\n",
        "\n",
        "    # Define the transformation matrix\n",
        "    M = np.float32([[1, 0, offset_x], [0, 1, offset_y]])\n",
        "\n",
        "    # Apply the affine transformation to the image\n",
        "    shifted_image = cv2.warpAffine(image, M, (image.shape[1], image.shape[0]))\n",
        "\n",
        "    # Save the shifted image\n",
        "    output_path = os.path.join(output_directory, f'crop_{i}.jpg')\n",
        "    cv2.imwrite(output_path, shifted_image)\n",
        "\n",
        "print(f\"{num_shifted_images} shifted images generated and saved in '{output_directory}' folder.\")\n"
      ],
      "metadata": {
        "colab": {
          "base_uri": "https://localhost:8080/"
        },
        "id": "_jsNanB8no_2",
        "outputId": "b591f2e1-d897-4af3-bb37-e5ce7241b67d"
      },
      "execution_count": null,
      "outputs": [
        {
          "output_type": "stream",
          "name": "stdout",
          "text": [
            "20 shifted images generated and saved in '/content/drive/MyDrive/Event_Simulation/Helen/helen_train_test/Helen_Cropped' folder.\n"
          ]
        }
      ]
    }
  ]
}